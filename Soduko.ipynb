{
 "cells": [
  {
   "cell_type": "code",
   "execution_count": 1,
   "id": "445841dd-fe0d-4056-ad1d-576d589da3ac",
   "metadata": {},
   "outputs": [],
   "source": [
    "import numpy as np\n",
    "from qiskit.circuit import QuantumCircuit, QuantumRegister, AncillaRegister\n",
    "from qiskit.quantum_info import Statevector, Operator, partial_trace\n",
    "import matplotlib.pyplot as plt\n",
    "from itertools import combinations"
   ]
  },
  {
   "cell_type": "markdown",
   "id": "863c722a-dcda-46ad-a31a-6a225f0ae93b",
   "metadata": {},
   "source": [
    "# $2 \\times 2$ Sudoku\n",
    "\n",
    "We begin by considering a simplified instance of the Sudoku puzzle consisting of a $2 \\times 2$ grid:\n",
    "\n",
    "$$\n",
    "\\left[\\begin{array}{c|c}\n",
    "a & b \\\\\n",
    "\\hline\n",
    "c & d \\\\\n",
    "\\end{array}\\right], \n",
    "\\quad \\{a, b, c, d\\} \\in \\{0, 1\\}.\n",
    "$$\n",
    "\n",
    "A configuration of this puzzle constitutes a valid solution if the following constraints are satisfied:\n",
    "\n",
    "$$\n",
    "a \\neq b, \\quad a \\neq c, \\quad b \\neq d, \\quad c \\neq d.\n",
    "$$\n",
    "\n",
    "Under these conditions, there exist exactly two valid solutions:\n",
    "\n",
    "$$\n",
    "\\left[\\begin{array}{c|c}\n",
    "0 & 1 \\\\\n",
    "\\hline\n",
    "1 & 0 \\\\\n",
    "\\end{array}\\right],\n",
    "\\quad\n",
    "\\left[\\begin{array}{c|c}\n",
    "1 & 0 \\\\\n",
    "\\hline\n",
    "0 & 1 \\\\\n",
    "\\end{array}\\right].\n",
    "$$\n",
    "\n",
    "Each configuration can be uniquely encoded as the binary representation of an integer between \\(0\\) and \\(15\\), defined by the tuple $(a\\,b\\,c\\,d)_2$. Accordingly, the two valid solutions correspond to the binary states\n",
    "\n",
    "$$\n",
    "6 = (0110)_2, \\quad 9 = (1001)_2.\n",
    "$$\n",
    "\n",
    "Grover’s search algorithm may be employed to identify these solutions through the following procedure:\n",
    "\n",
    "1. **Initialization:** Prepare a register of four qubits in the uniform superposition state  \n",
    "\n",
    "   $$\n",
    "   |s\\rangle_4 = \\mathcal{H}^{\\otimes 4} |0\\rangle_4,\n",
    "   $$\n",
    "\n",
    "   representing all possible puzzle configurations.\n",
    "\n",
    "2. **Oracle Application:** Implement a unitary operator \\(U\\) that evaluates the validity constraints and applies a phase factor of \\(-1\\) to the states corresponding to valid solutions.\n",
    "\n",
    "3. **Amplitude Amplification:** Apply the Grover diffusion operator, which performs an inversion about the mean of the amplitude distribution, thereby amplifying the amplitudes of valid configurations while suppressing those of invalid ones.\n",
    "\n",
    "4. **Iteration:** Repeat steps (2) and (3) an optimal number of times to maximize the measurement probability of a valid solution."
   ]
  },
  {
   "cell_type": "markdown",
   "id": "42705251-afc0-479e-9547-b8ea0ddaa57b",
   "metadata": {},
   "source": [
    "## State Preparation\n",
    "\n",
    "The initial state of the system is prepared as an equal superposition over all possible configurations of the Sudoku puzzle. This is accomplished by initializing each qubit corresponding to a puzzle element in the computational basis state $|0\\rangle$, and subsequently applying the Hadamard transformation $H$ to each qubit to get $|s\\rangle$.\n"
   ]
  },
  {
   "cell_type": "code",
   "execution_count": 2,
   "id": "f4b777b3-9e3c-4407-9ae7-fbd14646bdbf",
   "metadata": {},
   "outputs": [
    {
     "name": "stdout",
     "output_type": "stream",
     "text": [
      "Statevector([0.25+0.j, 0.25+0.j, 0.25+0.j, 0.25+0.j, 0.25+0.j, 0.25+0.j,\n",
      "             0.25+0.j, 0.25+0.j, 0.25+0.j, 0.25+0.j, 0.25+0.j, 0.25+0.j,\n",
      "             0.25+0.j, 0.25+0.j, 0.25+0.j, 0.25+0.j],\n",
      "            dims=(2, 2, 2, 2))\n"
     ]
    },
    {
     "data": {
      "text/html": [
       "<pre style=\"word-wrap: normal;white-space: pre;background: #fff0;line-height: 1.1;font-family: &quot;Courier New&quot;,Courier,monospace\">        ┌───┐\n",
       "Puzz_0: ┤ H ├\n",
       "        ├───┤\n",
       "Puzz_1: ┤ H ├\n",
       "        ├───┤\n",
       "Puzz_2: ┤ H ├\n",
       "        ├───┤\n",
       "Puzz_3: ┤ H ├\n",
       "        └───┘</pre>"
      ],
      "text/plain": [
       "        ┌───┐\n",
       "Puzz_0: ┤ H ├\n",
       "        ├───┤\n",
       "Puzz_1: ┤ H ├\n",
       "        ├───┤\n",
       "Puzz_2: ┤ H ├\n",
       "        ├───┤\n",
       "Puzz_3: ┤ H ├\n",
       "        └───┘"
      ]
     },
     "execution_count": 2,
     "metadata": {},
     "output_type": "execute_result"
    }
   ],
   "source": [
    "QuReg = QuantumRegister(size=4, name = \"Puzz\");\n",
    "\n",
    "Puzz_qc = QuantumCircuit(QuReg, name = \"State Prep\");\n",
    "Puzz_qc.h(QuReg);\n",
    "Initial_Circ = Puzz_qc.to_gate();\n",
    "print(Statevector(Puzz_qc))\n",
    "Puzz_qc.draw()"
   ]
  },
  {
   "cell_type": "markdown",
   "id": "96c70cd1-ba8b-4732-b509-931690221e1b",
   "metadata": {},
   "source": [
    "## Oracle\n",
    "\n",
    "The next step involves constructing an oracle circuit that determines whether a given configuration of the Sudoku puzzle constitutes a valid solution. The oracle is designed to encode the logical constraints of the puzzle into a quantum operation that marks the valid states with a phase inversion.\n",
    "\n",
    "Each cell of the puzzle is represented by a single qubit, whose computational basis states correspond to the possible digit assignments. The oracle verifies the validity of a configuration by checking that the values assigned to distinct positions in the puzzle differ, as required by the Sudoku constraints.\n",
    "\n",
    "To implement this comparison, for each pair of qubits whose values must differ, we employ a pair of controlled-NOT $CX$ gates acting on a common ancillary qubit. The ancilla qubit serves as a comparator: it is flipped if and only if the control qubits differ in value. This operation effectively encodes whether a given constraint is satisfied.\n",
    "\n",
    "After all such comparisons are performed, a multi-controlled phase gate is applied, conditioned on all ancilla qubits being in the $|1\\rangle$ state. This operation introduces a global phase factor of \\(-1\\) to the composite state vector only when all constraints are simultaneously satisfied—that is, when the configuration represents a valid Sudoku solution.\n",
    "\n",
    "Finally, the sequence of $CX$ gates is reversed to uncompute the ancillary qubits, ensuring they return to their initial $|0\\rangle$ states. This step preserves the reversibility of the oracle and leaves the ancillas disentangled from the main computational register, up to an overall phase.\n",
    "\n",
    "---\n",
    "\n",
    "Mathematically, the oracle implements the following unitary transformation:\n",
    "\n",
    "$$\n",
    "U_f |x\\rangle =\n",
    "\\begin{cases}\n",
    "- |x\\rangle, & \\text{if } f(x) = 1 \\\\\n",
    "\\ \\ |x\\rangle, & \\text{if } f(x) = 0\n",
    "\\end{cases}\n",
    "$$\n",
    "\n",
    "where $f(x)$ is the Boolean function encoding the validity constraints of the Sudoku puzzle.  \n",
    "Thus, $U_f$ applies a phase inversion to all basis states $|x\\rangle$ corresponding to valid solutions, while leaving all invalid configurations unchanged.\n"
   ]
  },
  {
   "cell_type": "code",
   "execution_count": 7,
   "id": "87fd353b-84ff-48a8-a1c1-b799208660cd",
   "metadata": {},
   "outputs": [
    {
     "data": {
      "text/html": [
       "<pre style=\"word-wrap: normal;white-space: pre;background: #fff0;line-height: 1.1;font-family: &quot;Courier New&quot;,Courier,monospace\">                                                                           »\n",
       "Puzz_0: ──■─────────■────────────────────────────────────■─────────■───────»\n",
       "          │         │                                    │         │       »\n",
       "Puzz_1: ──┼────■────┼─────────■──────────────────────────┼────■────┼───────»\n",
       "          │    │    │         │                          │    │    │       »\n",
       "Puzz_2: ──┼────┼────┼────■────┼─────────■────────────────┼────┼────┼────■──»\n",
       "          │    │    │    │    │         │                │    │    │    │  »\n",
       "Puzz_3: ──┼────┼────┼────┼────┼────■────┼────■───────────┼────┼────┼────┼──»\n",
       "        ┌─┴─┐┌─┴─┐  │    │    │    │    │    │         ┌─┴─┐┌─┴─┐  │    │  »\n",
       "Comp_0: ┤ X ├┤ X ├──┼────┼────┼────┼────┼────┼───■─────┤ X ├┤ X ├──┼────┼──»\n",
       "        └───┘└───┘┌─┴─┐┌─┴─┐  │    │    │    │   │     └───┘└───┘┌─┴─┐┌─┴─┐»\n",
       "Comp_1: ──────────┤ X ├┤ X ├──┼────┼────┼────┼───■───────────────┤ X ├┤ X ├»\n",
       "                  └───┘└───┘┌─┴─┐┌─┴─┐  │    │   │               └───┘└───┘»\n",
       "Comp_2: ────────────────────┤ X ├┤ X ├──┼────┼───■─────────────────────────»\n",
       "                            └───┘└───┘┌─┴─┐┌─┴─┐ │P(π)                     »\n",
       "Comp_3: ──────────────────────────────┤ X ├┤ X ├─■─────────────────────────»\n",
       "                                      └───┘└───┘                           »\n",
       "«                            \n",
       "«Puzz_0: ────────────────────\n",
       "«                            \n",
       "«Puzz_1: ──■─────────────────\n",
       "«          │                 \n",
       "«Puzz_2: ──┼─────────■───────\n",
       "«          │         │       \n",
       "«Puzz_3: ──┼────■────┼────■──\n",
       "«          │    │    │    │  \n",
       "«Comp_0: ──┼────┼────┼────┼──\n",
       "«          │    │    │    │  \n",
       "«Comp_1: ──┼────┼────┼────┼──\n",
       "«        ┌─┴─┐┌─┴─┐  │    │  \n",
       "«Comp_2: ┤ X ├┤ X ├──┼────┼──\n",
       "«        └───┘└───┘┌─┴─┐┌─┴─┐\n",
       "«Comp_3: ──────────┤ X ├┤ X ├\n",
       "«                  └───┘└───┘</pre>"
      ],
      "text/plain": [
       "                                                                           »\n",
       "Puzz_0: ──■─────────■────────────────────────────────────■─────────■───────»\n",
       "          │         │                                    │         │       »\n",
       "Puzz_1: ──┼────■────┼─────────■──────────────────────────┼────■────┼───────»\n",
       "          │    │    │         │                          │    │    │       »\n",
       "Puzz_2: ──┼────┼────┼────■────┼─────────■────────────────┼────┼────┼────■──»\n",
       "          │    │    │    │    │         │                │    │    │    │  »\n",
       "Puzz_3: ──┼────┼────┼────┼────┼────■────┼────■───────────┼────┼────┼────┼──»\n",
       "        ┌─┴─┐┌─┴─┐  │    │    │    │    │    │         ┌─┴─┐┌─┴─┐  │    │  »\n",
       "Comp_0: ┤ X ├┤ X ├──┼────┼────┼────┼────┼────┼───■─────┤ X ├┤ X ├──┼────┼──»\n",
       "        └───┘└───┘┌─┴─┐┌─┴─┐  │    │    │    │   │     └───┘└───┘┌─┴─┐┌─┴─┐»\n",
       "Comp_1: ──────────┤ X ├┤ X ├──┼────┼────┼────┼───■───────────────┤ X ├┤ X ├»\n",
       "                  └───┘└───┘┌─┴─┐┌─┴─┐  │    │   │               └───┘└───┘»\n",
       "Comp_2: ────────────────────┤ X ├┤ X ├──┼────┼───■─────────────────────────»\n",
       "                            └───┘└───┘┌─┴─┐┌─┴─┐ │P(π)                     »\n",
       "Comp_3: ──────────────────────────────┤ X ├┤ X ├─■─────────────────────────»\n",
       "                                      └───┘└───┘                           »\n",
       "«                            \n",
       "«Puzz_0: ────────────────────\n",
       "«                            \n",
       "«Puzz_1: ──■─────────────────\n",
       "«          │                 \n",
       "«Puzz_2: ──┼─────────■───────\n",
       "«          │         │       \n",
       "«Puzz_3: ──┼────■────┼────■──\n",
       "«          │    │    │    │  \n",
       "«Comp_0: ──┼────┼────┼────┼──\n",
       "«          │    │    │    │  \n",
       "«Comp_1: ──┼────┼────┼────┼──\n",
       "«        ┌─┴─┐┌─┴─┐  │    │  \n",
       "«Comp_2: ┤ X ├┤ X ├──┼────┼──\n",
       "«        └───┘└───┘┌─┴─┐┌─┴─┐\n",
       "«Comp_3: ──────────┤ X ├┤ X ├\n",
       "«                  └───┘└───┘"
      ]
     },
     "execution_count": 7,
     "metadata": {},
     "output_type": "execute_result"
    }
   ],
   "source": [
    "Puzz_qr = QuantumRegister(size=4, name = \"Puzz\");\n",
    "Comp_qr = AncillaRegister(size=4, name = \"Comp\");\n",
    "\n",
    "Oracle_qc = QuantumCircuit(Puzz_qr, Comp_qr, name = \"Oracle\");\n",
    "\n",
    "Pairs = [(0,1), (0,2), (1,3), (2,3)];\n",
    "for c in range(len(Pairs)):\n",
    "    j,k = Pairs[c];\n",
    "    Oracle_qc.cx(Puzz_qr[j], Comp_qr[c]);\n",
    "    Oracle_qc.cx(Puzz_qr[k], Comp_qr[c]);\n",
    "\n",
    "Oracle_qc.mcp(np.pi, Comp_qr[0:-1], Comp_qr[-1])\n",
    "\n",
    "for c in range(len(Pairs)):\n",
    "    j,k = Pairs[c];\n",
    "    Oracle_qc.cx(Puzz_qr[j], Comp_qr[c]);\n",
    "    Oracle_qc.cx(Puzz_qr[k], Comp_qr[c]);\n",
    "\n",
    "Oracle_Circ = Oracle_qc.to_gate();\n",
    "Oracle_qc.draw()"
   ]
  },
  {
   "cell_type": "markdown",
   "id": "30a62da7-3392-49f3-838e-b35147008f0a",
   "metadata": {},
   "source": [
    "### Diffuser\n",
    "\n",
    "The Grover diffusion operator, or diffuser, is a central component of Grover's search algorithm. For a system of $N$ qubits, the standard diffuser circuit is expressed as:\n",
    "\n",
    "$$\n",
    "D = \\left( H^{\\otimes N} \\right) \\left( X^{\\otimes N} \\right) \\left( C^{N-1}Z \\right) \\left( X^{\\otimes N} \\right) \\left( H^{\\otimes N} \\right),\n",
    "$$\n",
    "\n",
    "where $H$ denotes the Hadamard gate, $X$ the Pauli-X gate, and $C^{N-1}Z$ an $(N-1)$-controlled Z gate.\n",
    "\n",
    "This operator performs an inversion about the mean of the amplitude distribution of the quantum state. After the oracle has marked the valid solution states by inverting their phases, the mean of the amplitudes shifts such that the inversion about the mean effectively amplifies the amplitudes of these solution states while simultaneously suppressing the amplitudes of non-solution states.\n",
    "\n",
    "Consequently, repeated application of the diffuser, interleaved with the oracle, systematically increases the probability of measuring a valid solution upon observation of the system.\n"
   ]
  },
  {
   "cell_type": "code",
   "execution_count": 12,
   "id": "cc75864a-8ae9-402d-9aff-da23a3d1e63e",
   "metadata": {},
   "outputs": [
    {
     "data": {
      "text/html": [
       "<pre style=\"word-wrap: normal;white-space: pre;background: #fff0;line-height: 1.1;font-family: &quot;Courier New&quot;,Courier,monospace\">        ┌───┐┌───┐       ┌───┐┌───┐\n",
       "Puzz_0: ┤ H ├┤ X ├─■─────┤ X ├┤ H ├\n",
       "        ├───┤├───┤ │     ├───┤├───┤\n",
       "Puzz_1: ┤ H ├┤ X ├─■─────┤ X ├┤ H ├\n",
       "        ├───┤├───┤ │     ├───┤├───┤\n",
       "Puzz_2: ┤ H ├┤ X ├─■─────┤ X ├┤ H ├\n",
       "        ├───┤├───┤ │P(π) ├───┤├───┤\n",
       "Puzz_3: ┤ H ├┤ X ├─■─────┤ X ├┤ H ├\n",
       "        └───┘└───┘       └───┘└───┘</pre>"
      ],
      "text/plain": [
       "        ┌───┐┌───┐       ┌───┐┌───┐\n",
       "Puzz_0: ┤ H ├┤ X ├─■─────┤ X ├┤ H ├\n",
       "        ├───┤├───┤ │     ├───┤├───┤\n",
       "Puzz_1: ┤ H ├┤ X ├─■─────┤ X ├┤ H ├\n",
       "        ├───┤├───┤ │     ├───┤├───┤\n",
       "Puzz_2: ┤ H ├┤ X ├─■─────┤ X ├┤ H ├\n",
       "        ├───┤├───┤ │P(π) ├───┤├───┤\n",
       "Puzz_3: ┤ H ├┤ X ├─■─────┤ X ├┤ H ├\n",
       "        └───┘└───┘       └───┘└───┘"
      ]
     },
     "execution_count": 12,
     "metadata": {},
     "output_type": "execute_result"
    }
   ],
   "source": [
    "QuReg = QuantumRegister(size=4, name = \"Puzz\");\n",
    "Diff_qc = QuantumCircuit(QuReg, name = \"Diffuser\");\n",
    "Diff_qc.h(QuReg);\n",
    "Diff_qc.x(QuReg);\n",
    "Diff_qc.mcp(np.pi, QuReg[0:-1], QuReg[-1])\n",
    "Diff_qc.x(QuReg);\n",
    "Diff_qc.h(QuReg);\n",
    "\n",
    "Diff_Circ = Diff_qc.to_gate();\n",
    "Diff_qc.draw()"
   ]
  },
  {
   "cell_type": "markdown",
   "id": "f283ff14-88b4-4de6-9809-64ae463958d8",
   "metadata": {},
   "source": [
    "## Grover\n",
    "\n",
    "The complete Grover search circuit is constructed by first implementing the state preparation stage, which initializes the system into a uniform superposition over all possible configurations of the Sudoku puzzle. Following this, the **oracle** and **diffusion** operators are applied in sequence to amplify the amplitudes corresponding to valid solution states. This sequence—often referred to as the **Grover iteration**—is repeated a specific number of times to maximize the probability of measuring a valid solution.\n",
    "\n",
    "The optimal number of Grover iterations depends on the total number of states $N$ and the number of valid solutions $m$. As derived in Nielsen and Chuang (Eq. 6.17), the optimal iteration count is given by\n",
    "\n",
    "$$\n",
    "k = \\left\\lceil \\frac{\\pi}{4} \\sqrt{\\frac{N}{m}} \\right\\rceil.\n",
    "$$\n",
    "\n",
    "This expression ensures that the amplitudes of the marked (solution) states are maximally amplified, while those of non-solution states are correspondingly suppressed.\n",
    "\n",
    "In the present case, the system comprises $N = 2^4 = 16$ possible configurations encoded by four qubits, and there exist $m = 2$ valid solutions. Substituting these values yields an optimal iteration count of\n",
    "\n",
    "$$\n",
    "k = \\left\\lceil \\frac{\\pi}{4} \\sqrt{\\frac{16}{2}} \\right\\rceil = 2.\n",
    "$$\n",
    "\n",
    "Thus, two Grover iterations—each consisting of an oracle application followed by the diffusion operator—are required to maximize the probability of successfully measuring a valid Sudoku configuration.\n",
    "\n",
    "In practice, the full Grover circuit is implemented by combining three primary subcircuits: the **state preparation circuit**, the **oracle**, and the **diffuser**. The state preparation circuit applies Hadamard gates to all qubits, establishing a uniform superposition. The oracle is realized as a phase-flip operation conditioned on the satisfaction of the Sudoku constraints, effectively marking the solution states. The diffuser performs an inversion about the mean amplitude of the system, thereby amplifying the marked states. These components are concatenated and repeated $k = 2$ times, after which the final measurement of the four puzzle qubits yields one of the valid Sudoku configurations with high probability.\n"
   ]
  },
  {
   "cell_type": "code",
   "execution_count": 13,
   "id": "95d4591f-8dee-4158-807b-205dbee2a4a8",
   "metadata": {},
   "outputs": [
    {
     "name": "stdout",
     "output_type": "stream",
     "text": [
      "Optimal # of iterations:  3\n",
      "        ┌─────────────┐┌─────────┐┌───────────┐┌─────────┐┌───────────┐»\n",
      "Puzz_0: ┤0            ├┤0        ├┤0          ├┤0        ├┤0          ├»\n",
      "        │             ││         ││           ││         ││           │»\n",
      "Puzz_1: ┤1            ├┤1        ├┤1          ├┤1        ├┤1          ├»\n",
      "        │  State Prep ││         ││  Diffuser ││         ││  Diffuser │»\n",
      "Puzz_2: ┤2            ├┤2        ├┤2          ├┤2        ├┤2          ├»\n",
      "        │             ││         ││           ││         ││           │»\n",
      "Puzz_3: ┤3            ├┤3        ├┤3          ├┤3        ├┤3          ├»\n",
      "        └─────────────┘│  Oracle │└───────────┘│  Oracle │└───────────┘»\n",
      " DGA_0: ───────────────┤4        ├─────────────┤4        ├─────────────»\n",
      "                       │         │             │         │             »\n",
      " DGA_1: ───────────────┤5        ├─────────────┤5        ├─────────────»\n",
      "                       │         │             │         │             »\n",
      " DGA_2: ───────────────┤6        ├─────────────┤6        ├─────────────»\n",
      "                       │         │             │         │             »\n",
      " DGA_3: ───────────────┤7        ├─────────────┤7        ├─────────────»\n",
      "                       └─────────┘             └─────────┘             »\n",
      "«        ┌─────────┐┌───────────┐\n",
      "«Puzz_0: ┤0        ├┤0          ├\n",
      "«        │         ││           │\n",
      "«Puzz_1: ┤1        ├┤1          ├\n",
      "«        │         ││  Diffuser │\n",
      "«Puzz_2: ┤2        ├┤2          ├\n",
      "«        │         ││           │\n",
      "«Puzz_3: ┤3        ├┤3          ├\n",
      "«        │  Oracle │└───────────┘\n",
      "« DGA_0: ┤4        ├─────────────\n",
      "«        │         │             \n",
      "« DGA_1: ┤5        ├─────────────\n",
      "«        │         │             \n",
      "« DGA_2: ┤6        ├─────────────\n",
      "«        │         │             \n",
      "« DGA_3: ┤7        ├─────────────\n",
      "«        └─────────┘             \n"
     ]
    },
    {
     "data": {
      "text/plain": [
       "<BarContainer object of 16 artists>"
      ]
     },
     "execution_count": 13,
     "metadata": {},
     "output_type": "execute_result"
    },
    {
     "data": {
      "image/png": "[encoded data removed]",
      "text/plain": [
       "<Figure size 640x480 with 1 Axes>"
      ]
     },
     "metadata": {},
     "output_type": "display_data"
    }
   ],
   "source": [
    "m = 2; N = 4;\n",
    "Nt = int(np.ceil(np.pi/4 * np.sqrt(N/m)));\n",
    "print(\"Optimal # of iterations: \",k);\n",
    "\n",
    "Puzz_qr = QuantumRegister(size=4, name = \"Puzz\");\n",
    "DGA_qr = AncillaRegister(size=4, name = \"DGA\");\n",
    "\n",
    "Grover_qc = QuantumCircuit(Puzz_qr, DGA_qr, name = \"Grover\");\n",
    "\n",
    "Grover_qc.compose(Initial_Circ, inplace=True);\n",
    "for j in range(k):\n",
    "    Grover_qc.compose(Oracle_Circ, inplace=True);\n",
    "    Grover_qc.compose(Diff_Circ, inplace=True);\n",
    "\n",
    "print(Grover_qc.draw())\n",
    "\n",
    "Psi_Vec = Statevector(Grover_qc);\n",
    "Sig = partial_trace(Psi_Vec, [j for j in range(4,8)]);\n",
    "\n",
    "plt.bar(range(2**N), Sig.probabilities())"
   ]
  },
  {
   "cell_type": "code",
   "execution_count": null,
   "id": "04fb1ca4-1a48-4108-9842-657b636a98d9",
   "metadata": {},
   "outputs": [],
   "source": []
  },
  {
   "cell_type": "code",
   "execution_count": null,
   "id": "775251ee-8b40-4bde-96de-674dd850a027",
   "metadata": {},
   "outputs": [],
   "source": []
  },
  {
   "cell_type": "code",
   "execution_count": null,
   "id": "5f823a15-9312-4e89-86e0-0640dacb82bc",
   "metadata": {},
   "outputs": [],
   "source": []
  }
 ],
 "metadata": {
  "kernelspec": {
   "display_name": "Python 3 (ipykernel)",
   "language": "python",
   "name": "python3"
  },
  "language_info": {
   "codemirror_mode": {
    "name": "ipython",
    "version": 3
   },
   "file_extension": ".py",
   "mimetype": "text/x-python",
   "name": "python",
   "nbconvert_exporter": "python",
   "pygments_lexer": "ipython3",
   "version": "3.12.7"
  }
 },
 "nbformat": 4,
 "nbformat_minor": 5
}
